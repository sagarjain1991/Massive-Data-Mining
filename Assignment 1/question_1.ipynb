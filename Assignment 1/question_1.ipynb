{
 "cells": [
  {
   "cell_type": "code",
   "execution_count": null,
   "metadata": {},
   "outputs": [],
   "source": [
    "from pyspark import SparkContext, SparkConf\n",
    "conf = SparkConf()\n",
    "sc = SparkContext(conf=conf)\n",
    "from collections import Counter\n",
    "import itertools\n",
    "\n",
    "#Name of the file for the dataset\n",
    "fileName = 'soc-LiveJournal1Adj.txt'\n",
    "#set N=10 inorder to get the list of only 10 suggestions for friends\n",
    "N = 10\n",
    "\n",
    "def friends_mutual_connected(line):\n",
    "    #setting minimum so that we don't consider users who are already friends\n",
    "    minimum = -9999999999\n",
    "    #getting values for user and their friends\n",
    "    user, friends = line.split('\\t')\n",
    "    friends = friends.split(',')\n",
    "    #getting users who are already friends\n",
    "    connected_friends = [((user, friend), minimum) for friend in friends]\n",
    "    #getting mutual friends\n",
    "    mutual_friends = [(pair, 1) for pair in itertools.permutations(friends, 2)]\n",
    "    return connected_friends + mutual_friends\n",
    "\n",
    "def filter_to_reject(a):\n",
    "    if a[1]>0:\n",
    "        return True\n",
    "    else:\n",
    "        return False\n",
    "\n",
    "\n",
    "def mapping(a):\n",
    "    answer=(a[0][0],(a[1],a[0][1]))\n",
    "    return answer\n",
    "\n",
    "#creating a function to find suggestions of friends for users\n",
    "def recommendations(a):\n",
    "    user=a[0]\n",
    "    suggestions=a[1]\n",
    "    answer=(user, Counter( dict( (friend, count) for count, friend in suggestions ) ).most_common( N ) )\n",
    "    return answer\n",
    "\n",
    "\n",
    "suggestionsRDD = (sc\n",
    "                  .textFile(fileName, 16)\n",
    "                  .flatMap(friends_mutual_connected)\n",
    "                  .reduceByKey(lambda total, current: total + current)  \n",
    "                  .filter(filter_to_reject)  #filter to reject users who are already friends\n",
    "                  .map(mapping)\n",
    "                  .groupByKey()\n",
    "                  .map(recommendations)\n",
    "               )\n",
    "\t\t\t   \n",
    "print (suggestionsRDD.lookup('8941'))"
   ]
  },
  {
   "cell_type": "code",
   "execution_count": null,
   "metadata": {},
   "outputs": [],
   "source": [
    "#creating a list for users of which recommendations are asked\n",
    "list=['924', '8941', '8942', '9019', '9020', '9021', '9022', '9990', '9992', '9993']"
   ]
  },
  {
   "cell_type": "code",
   "execution_count": null,
   "metadata": {},
   "outputs": [],
   "source": [
    "#printing the answer\n",
    "for i in range(len(list)):\n",
    "    print(list[i])\n",
    "    print (suggestionsRDD.lookup(list[i]))\n",
    "    print()"
   ]
  },
  {
   "cell_type": "code",
   "execution_count": null,
   "metadata": {},
   "outputs": [],
   "source": [
    "sc.stop()"
   ]
  }
 ],
 "metadata": {
  "kernelspec": {
   "display_name": "Python 3",
   "language": "python",
   "name": "python3"
  },
  "language_info": {
   "codemirror_mode": {
    "name": "ipython",
    "version": 3
   },
   "file_extension": ".py",
   "mimetype": "text/x-python",
   "name": "python",
   "nbconvert_exporter": "python",
   "pygments_lexer": "ipython3",
   "version": "3.6.8"
  }
 },
 "nbformat": 4,
 "nbformat_minor": 2
}
